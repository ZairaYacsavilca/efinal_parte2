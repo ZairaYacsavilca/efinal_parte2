{
 "cells": [
  {
   "cell_type": "code",
   "execution_count": 4,
   "id": "1642b7b4",
   "metadata": {},
   "outputs": [],
   "source": [
    "#EVALUACIÓN FINAL PARTE 2"
   ]
  },
  {
   "cell_type": "code",
   "execution_count": 15,
   "id": "158319da",
   "metadata": {},
   "outputs": [
    {
     "name": "stdout",
     "output_type": "stream",
     "text": [
      "<class 'pandas.core.frame.DataFrame'>\n",
      "RangeIndex: 47530 entries, 0 to 47529\n",
      "Data columns (total 14 columns):\n",
      " #   Column     Non-Null Count  Dtype \n",
      "---  ------     --------------  ----- \n",
      " 0   date       47530 non-null  object\n",
      " 1   admin1     47530 non-null  object\n",
      " 2   admin2     47530 non-null  object\n",
      " 3   market     47530 non-null  object\n",
      " 4   latitude   47530 non-null  object\n",
      " 5   longitude  47530 non-null  object\n",
      " 6   category   47530 non-null  object\n",
      " 7   commodity  47530 non-null  object\n",
      " 8   unit       47530 non-null  object\n",
      " 9   priceflag  47530 non-null  object\n",
      " 10  pricetype  47530 non-null  object\n",
      " 11  currency   47530 non-null  object\n",
      " 12  price      47530 non-null  object\n",
      " 13  usdprice   47530 non-null  object\n",
      "dtypes: object(14)\n",
      "memory usage: 5.1+ MB\n"
     ]
    }
   ],
   "source": [
    "# data table\n",
    "import os\n",
    "import pandas as pd\n",
    "\n",
    "colombiaData=os.path.join(\"data\",\"wfp_food_prices_col.xlsx\")\n",
    "datadis=pd.read_excel(colombiaData,\n",
    "                     dtype={'date': object})\n",
    "datadis.info()"
   ]
  },
  {
   "cell_type": "code",
   "execution_count": 17,
   "id": "be6a6ae8",
   "metadata": {},
   "outputs": [
    {
     "name": "stdout",
     "output_type": "stream",
     "text": [
      "<class 'pandas.core.frame.DataFrame'>\n",
      "RangeIndex: 47530 entries, 0 to 47529\n",
      "Data columns (total 14 columns):\n",
      " #   Column     Non-Null Count  Dtype  \n",
      "---  ------     --------------  -----  \n",
      " 0   date       47530 non-null  object \n",
      " 1   admin1     47530 non-null  object \n",
      " 2   admin2     47530 non-null  object \n",
      " 3   market     47530 non-null  object \n",
      " 4   latitude   47530 non-null  object \n",
      " 5   longitude  47530 non-null  object \n",
      " 6   category   47530 non-null  object \n",
      " 7   commodity  47530 non-null  object \n",
      " 8   unit       47530 non-null  object \n",
      " 9   priceflag  47530 non-null  object \n",
      " 10  pricetype  47530 non-null  object \n",
      " 11  currency   47530 non-null  object \n",
      " 12  price      47529 non-null  float64\n",
      " 13  usdprice   47530 non-null  object \n",
      "dtypes: float64(1), object(13)\n",
      "memory usage: 5.1+ MB\n"
     ]
    }
   ],
   "source": [
    "datadis.price=pd.to_numeric(datadis.price, errors='coerce')\n",
    "datadis.info()"
   ]
  },
  {
   "cell_type": "code",
   "execution_count": 25,
   "id": "977cf4cd",
   "metadata": {},
   "outputs": [
    {
     "name": "stdout",
     "output_type": "stream",
     "text": [
      "<class 'geopandas.geodataframe.GeoDataFrame'>\n",
      "RangeIndex: 1 entries, 0 to 0\n",
      "Data columns (total 11 columns):\n",
      " #   Column             Non-Null Count  Dtype              \n",
      "---  ------             --------------  -----              \n",
      " 0   Shape_Length       1 non-null      float64            \n",
      " 1   Shape_Area         1 non-null      float64            \n",
      " 2   admin0Name_es      1 non-null      object             \n",
      " 3   admin0Pcode        1 non-null      object             \n",
      " 4   admin0RefName      0 non-null      object             \n",
      " 5   admin0AltName1_es  0 non-null      object             \n",
      " 6   admin0AltName2_es  0 non-null      object             \n",
      " 7   date               1 non-null      datetime64[ns, UTC]\n",
      " 8   validOn            1 non-null      datetime64[ns, UTC]\n",
      " 9   validTo            0 non-null      datetime64[ns]     \n",
      " 10  geometry           1 non-null      geometry           \n",
      "dtypes: datetime64[ns, UTC](2), datetime64[ns](1), float64(2), geometry(1), object(5)\n",
      "memory usage: 220.0+ bytes\n"
     ]
    }
   ],
   "source": [
    "# map\n",
    "import geopandas as gpd\n",
    "\n",
    "colombiaDataMap=os.path.join(\"maps\",\"COL_AdminBoundaries_candidate.gdb\")\n",
    "\n",
    "datadismap=gpd.read_file(colombiaDataMap)\n",
    "\n",
    "datadismap.info()"
   ]
  },
  {
   "cell_type": "code",
   "execution_count": null,
   "id": "640ad73b",
   "metadata": {},
   "outputs": [],
   "source": []
  }
 ],
 "metadata": {
  "kernelspec": {
   "display_name": "Python 3 (ipykernel)",
   "language": "python",
   "name": "python3"
  },
  "language_info": {
   "codemirror_mode": {
    "name": "ipython",
    "version": 3
   },
   "file_extension": ".py",
   "mimetype": "text/x-python",
   "name": "python",
   "nbconvert_exporter": "python",
   "pygments_lexer": "ipython3",
   "version": "3.11.5"
  }
 },
 "nbformat": 4,
 "nbformat_minor": 5
}
